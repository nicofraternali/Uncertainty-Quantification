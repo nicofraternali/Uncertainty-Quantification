{
 "cells": [
  {
   "cell_type": "markdown",
   "metadata": {},
   "source": [
    "---\n",
    "\n",
    "<center>\n",
    "\n",
    "# **Uncertainty Quantification**\n",
    "\n",
    "<center>\n",
    "\n",
    "---\n"
   ]
  },
  {
   "cell_type": "markdown",
   "metadata": {},
   "source": [
    "This series of Jupyter Notebooks is based on the short book named **QUANTIFICAÇÃO DE INCERTEZA E ESTIMAÇÃO DE PARÂMETROS EM DINÂMICA ESTRUTURAL: UMA INTRODUÇÃO BASEADA EM EXEMPLOS COMPUTACIONAIS** by <u>Daniel Alves Castello</u> and <u>Thiago Gamboa Ritto</u>.\n",
    "\n",
    "I aim to summarize the contents of their work, go through the theory, the formulae and it's derivation. \n",
    "\n",
    "Finally, the main purpose of this endeavour: translate the provided MATLAB codes to Python."
   ]
  },
  {
   "cell_type": "markdown",
   "metadata": {},
   "source": [
    "## Introduction:\n",
    "\n",
    "---"
   ]
  },
  {
   "cell_type": "markdown",
   "metadata": {},
   "source": [
    "The goal here is parameter estimation. The parameters we want to estimate will be modeled as random variables and probability theory is used to characterize beliefs about the true values of the parameters as function of a set of measurements, i.e their characterization through a probability distribution.\n",
    "\n",
    "Engineers often assume parameters and systems are deterministic but in reality processes and measurements have noise (e.g., uncertain material properties or external loads), little imperfections that we as engineers have to account for. This concept of inherent uncertainty gives rise to stochastic behaviour, requiring tools to quantify and manage it effectively.\n",
    "\n",
    "There is an uprising demand for more realistic analysis tools for complex dynamical structures present in different industries such as: oil extraction, automotive, aerospace, just to name a few. This requires computational models that account for uncertainty.\n",
    "\n",
    "We will approach the problem of uncertainty quantification following the next steps"
   ]
  },
  {
   "cell_type": "markdown",
   "metadata": {},
   "source": [
    "### 1. Build our deterministic computational model\n",
    "\n",
    "First of all we have to know what we want to model, and try our best to arrive to a computational model that best depicts it's behaviour. Then identify wich parameters of the model we want to quantify.\n",
    "\n",
    "<center> <img src=\"diagrams\\01_diagram_step_01.svg\" width=\"700\" height=\"200\"> \n",
    "\n",
    "*Fig 1.1: Step 1: deterministic computational model*\n",
    "\n",
    "</center>"
   ]
  },
  {
   "cell_type": "markdown",
   "metadata": {},
   "source": [
    "### 2. Build our stochastic computational model\n",
    "\n",
    "After defining the deterministic side of the equation it's time to select the probability distribution for the selected parameter. Choosing the right distribution is a key step, poorly choosed probabilistic models deliver poor performance stochastic models.\n",
    "\n",
    "<center> <img src=\"diagrams\\01_diagram_step_02.svg\" width=\"700\" height=\"200\"> \n",
    "\n",
    "*Fig 1.2: Step 2: stochastic computational model*\n",
    "\n",
    "</center>"
   ]
  },
  {
   "cell_type": "markdown",
   "metadata": {},
   "source": [
    "### 3. Approximation of the Response of the Stochastic Model\n",
    "\n",
    "Consider the case where the ralation between displacement and applied force follows $f = k d$, where $k$ is an elastic constant. If this is an uncertain parameter, it has a probability distribution assigned, by extension, the displacement $d$ also follows a probability distribution. \n",
    "\n",
    "There is not an straight forward answer to the question of what distribution this displacement follows, there are some fundamental theorems that allows us to relate the output pdf (probability distribution function) of the random variables with the distribution of uncertain parameters of the system. In most of the cases this method is computationally expensive.\n",
    "\n",
    "A popular strategy is the use of Monte Carlo method to approximate those probability distributions.\n",
    "\n",
    "<center> <img src=\"diagrams\\01_diagram_step_03.svg\" width=\"800\" height=\"400\"> \n",
    "\n",
    "*Fig 1.3: Step 3: approximation of the response of the stochastic model*\n",
    "\n",
    "</center>"
   ]
  },
  {
   "cell_type": "markdown",
   "metadata": {},
   "source": [
    "### 4. Parameter estimation\n",
    "\n",
    "Step 4 involves using all the data available of the model (adquired via experiments, data sheets, sensors, etc.) to calibrate our computational model."
   ]
  },
  {
   "cell_type": "markdown",
   "metadata": {},
   "source": [
    "### 5. Analyzing the results of the stochastic model\n",
    "\n",
    "Now we can start analyzing the behaviour of our model, including \n",
    "\n",
    "* Uncertainty propagation\n",
    "* Robust optimization\n",
    "* Reliability analysis\n",
    "\n",
    "<center> <img src=\"diagrams\\01_diagram_step_05.svg\" width=\"800\" height=\"400\"> \n",
    "\n",
    "*Fig 1.5: Step 5: analyzing stochastic model output*\n",
    "\n",
    "</center>"
   ]
  },
  {
   "cell_type": "markdown",
   "metadata": {},
   "source": [
    "### 6. Update the model \n",
    "\n",
    "Update the model's parameters using new experimental data, tipically via Bayesian inference\n",
    "\n",
    "<center> <img src=\"diagrams\\01_diagram_step_06.svg\" width=\"700\" height=\"300\"> \n",
    "\n",
    "*Fig 1.6: Step 6: update the model with new experimental data*\n",
    "\n",
    "</center>"
   ]
  }
 ],
 "metadata": {
  "language_info": {
   "name": "python"
  }
 },
 "nbformat": 4,
 "nbformat_minor": 2
}
